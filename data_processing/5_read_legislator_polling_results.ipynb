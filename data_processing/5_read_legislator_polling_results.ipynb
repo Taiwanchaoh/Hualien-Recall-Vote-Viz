{
 "cells": [
  {
   "cell_type": "code",
   "execution_count": 1,
   "id": "f12885db",
   "metadata": {},
   "outputs": [],
   "source": [
    "import pandas as pd\n",
    "\n"
   ]
  },
  {
   "cell_type": "code",
   "execution_count": 11,
   "id": "825ce7cb",
   "metadata": {},
   "outputs": [
    {
     "name": "stderr",
     "output_type": "stream",
     "text": [
      "/Users/hsunchao/personal_project/recall_vote_viz/.venv/lib/python3.11/site-packages/openpyxl/styles/stylesheet.py:237: UserWarning: Workbook contains no default style, apply openpyxl's default\n",
      "  warn(\"Workbook contains no default style, apply openpyxl's default\")\n",
      "/var/folders/3f/d3qkb2t92nn5_c36hfq6k0lm0000gn/T/ipykernel_7837/1604841394.py:26: FutureWarning: Series.fillna with 'method' is deprecated and will raise in a future version. Use obj.ffill() or obj.bfill() instead.\n",
      "  legislator_polling_results.region = legislator_polling_results.region.fillna(method=\"ffill\")\n"
     ]
    }
   ],
   "source": [
    "legislator_polling_results = pd.read_excel(\n",
    "    \"./data/legislator_election_results.xlsx\",\n",
    "    skiprows=6,\n",
    "    header=None,\n",
    "    names=[\n",
    "        \"region\",\n",
    "        \"village\",\n",
    "        \"polling_station_id\",\n",
    "        \"許願神\",\n",
    "        \"張美慧\",\n",
    "        \"傅崐萁\",\n",
    "        \"周玉梅\",\n",
    "        \"effective_vote\",\n",
    "        \"invalid_vote\",\n",
    "        \"total_vote\",\n",
    "        \"pickup_no_vote_count\",\n",
    "        \"pickup_vote_count\",\n",
    "        \"remaing_vote_count\",\n",
    "        \"total_voter_count\",\n",
    "        \"voting_rat_perct\"       \n",
    "    ]\n",
    ")\n",
    "\n",
    "legislator_polling_results['village'] = legislator_polling_results.village.fillna(\"總共\")\n",
    "legislator_polling_results[\"polling_station_id\"] = legislator_polling_results.polling_station_id.fillna(0)\n",
    "legislator_polling_results.region = legislator_polling_results.region.fillna(method=\"ffill\")\n",
    "\n",
    "legislator_polling_results.to_csv(\"./data/legislator_polling_results_cleaned.csv\", index=False)"
   ]
  },
  {
   "cell_type": "code",
   "execution_count": null,
   "id": "0892d62c",
   "metadata": {},
   "outputs": [],
   "source": []
  }
 ],
 "metadata": {
  "kernelspec": {
   "display_name": ".venv",
   "language": "python",
   "name": "python3"
  },
  "language_info": {
   "codemirror_mode": {
    "name": "ipython",
    "version": 3
   },
   "file_extension": ".py",
   "mimetype": "text/x-python",
   "name": "python",
   "nbconvert_exporter": "python",
   "pygments_lexer": "ipython3",
   "version": "3.11.13"
  }
 },
 "nbformat": 4,
 "nbformat_minor": 5
}
